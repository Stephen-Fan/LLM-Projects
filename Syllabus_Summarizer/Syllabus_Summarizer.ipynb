{
 "cells": [
  {
   "cell_type": "markdown",
   "id": "e7391084-2734-48dd-8b2b-f0db05230226",
   "metadata": {},
   "source": [
    "# Syllabus Summarizer"
   ]
  },
  {
   "cell_type": "markdown",
   "id": "abd0f39a-e053-435f-b6d6-feb47bcd18c8",
   "metadata": {},
   "source": [
    "This is a Syllabus Summarizer. It aims to help students summarize and get a quick overview of what the syllabus mentions. It takes in a URL that includes your syllabus and provides you with a summary of your syllabus."
   ]
  },
  {
   "cell_type": "markdown",
   "id": "48234f7e-bec1-4281-84c5-33b328e4fda9",
   "metadata": {},
   "source": [
    "## Importing Libraries"
   ]
  },
  {
   "cell_type": "code",
   "execution_count": 1,
   "id": "0e901525-228d-414a-9a56-5c691f0a438c",
   "metadata": {},
   "outputs": [],
   "source": [
    "# imports\n",
    "\n",
    "import os\n",
    "import requests\n",
    "from dotenv import load_dotenv\n",
    "from bs4 import BeautifulSoup\n",
    "from IPython.display import Markdown, display\n",
    "from openai import OpenAI"
   ]
  },
  {
   "cell_type": "markdown",
   "id": "641d4fdd-e6dd-408a-8e8c-c40e8b9cf7c7",
   "metadata": {},
   "source": [
    "## Connecting to OpenAI"
   ]
  },
  {
   "cell_type": "code",
   "execution_count": 2,
   "id": "861dec65-f7e0-4deb-8380-f276b27f0009",
   "metadata": {},
   "outputs": [
    {
     "name": "stdout",
     "output_type": "stream",
     "text": [
      "API key found and looks good so far!\n"
     ]
    }
   ],
   "source": [
    "# Load environment variables in a file called .env\n",
    "\n",
    "load_dotenv(override=True)\n",
    "api_key = os.getenv('OPENAI_API_KEY')\n",
    "\n",
    "# Check the key\n",
    "\n",
    "if not api_key:\n",
    "    print(\"No API key was found - please head over to the troubleshooting notebook in this folder to identify & fix!\")\n",
    "elif not api_key.startswith(\"sk-proj-\"):\n",
    "    print(\"An API key was found, but it doesn't start sk-proj-; please check you're using the right key - see troubleshooting notebook\")\n",
    "elif api_key.strip() != api_key:\n",
    "    print(\"An API key was found, but it looks like it might have space or tab characters at the start or end - please remove them - see troubleshooting notebook\")\n",
    "else:\n",
    "    print(\"API key found and looks good so far!\")"
   ]
  },
  {
   "cell_type": "code",
   "execution_count": 3,
   "id": "b3b6d048-3968-4a8f-8003-ca9c5068cea3",
   "metadata": {},
   "outputs": [],
   "source": [
    "openai = OpenAI()"
   ]
  },
  {
   "cell_type": "code",
   "execution_count": 4,
   "id": "8d70e26e-e82e-411b-8e69-8005fc555526",
   "metadata": {},
   "outputs": [
    {
     "name": "stdout",
     "output_type": "stream",
     "text": [
      "Hello! Welcome! I’m glad you decided to reach out. How can I assist you today?\n"
     ]
    }
   ],
   "source": [
    "# Preview Test\n",
    "\n",
    "message = \"Hello, GPT! This is my first ever message to you! Hi!\"\n",
    "response = openai.chat.completions.create(model=\"gpt-4o-mini\", messages=[{\"role\":\"user\", \"content\":message}])\n",
    "print(response.choices[0].message.content)"
   ]
  },
  {
   "cell_type": "code",
   "execution_count": 5,
   "id": "451b95ef-ffa0-4caa-bf11-c46629a42f00",
   "metadata": {},
   "outputs": [],
   "source": [
    "headers = {\n",
    " \"User-Agent\": \"Mozilla/5.0 (Windows NT 10.0; Win64; x64) AppleWebKit/537.36 (KHTML, like Gecko) Chrome/117.0.0.0 Safari/537.36\"\n",
    "}\n",
    "\n",
    "class Website:\n",
    "\n",
    "    def __init__(self, url):\n",
    "        \"\"\"\n",
    "        Create this Website object from the given url using the BeautifulSoup library\n",
    "        \"\"\"\n",
    "        self.url = url\n",
    "        response = requests.get(url, headers=headers)\n",
    "        soup = BeautifulSoup(response.content, 'html.parser')\n",
    "        self.title = soup.title.string if soup.title else \"No title found\"\n",
    "        for irrelevant in soup.body([\"script\", \"style\", \"img\", \"input\"]):\n",
    "            irrelevant.decompose()\n",
    "        self.text = soup.body.get_text(separator=\"\\n\", strip=True)"
   ]
  },
  {
   "cell_type": "markdown",
   "id": "779b0133-abd8-476a-b921-217d43e30993",
   "metadata": {},
   "source": [
    "## System Prompt"
   ]
  },
  {
   "cell_type": "code",
   "execution_count": 6,
   "id": "cf020547-381a-44f1-8de4-6acfe372c139",
   "metadata": {},
   "outputs": [],
   "source": [
    "system_prompt = \"You are an assistant that analyzes the contents of a website \\\n",
    "and provides a short summary, ignoring text that might be navigation related. \\\n",
    "Respond in markdown.\""
   ]
  },
  {
   "cell_type": "markdown",
   "id": "81822515-57ad-4f03-bbd6-ed98b5a02c0b",
   "metadata": {},
   "source": [
    "## User Prompt"
   ]
  },
  {
   "cell_type": "code",
   "execution_count": 7,
   "id": "282049aa-48e0-4cd0-970d-e3956b7a1c60",
   "metadata": {},
   "outputs": [],
   "source": [
    "# A function that writes a User Prompt that asks for summaries of websites:\n",
    "\n",
    "def user_prompt_for(website):\n",
    "    user_prompt = f\"You are looking at a website titled {website.title}\"\n",
    "    user_prompt += \"\\nThe contents of this website is as follows; \\\n",
    "please provide a short summary of this website in markdown. \\\n",
    "If there are any assignments and exams, categorize them \\\n",
    "and show them in the tables. \\n\\n\"\n",
    "    user_prompt += website.text\n",
    "    return user_prompt"
   ]
  },
  {
   "cell_type": "markdown",
   "id": "4feee624-23cc-4aed-a4c0-e8dbdef4a289",
   "metadata": {},
   "source": [
    "## Messages"
   ]
  },
  {
   "cell_type": "code",
   "execution_count": 8,
   "id": "c064b467-eebd-491d-8f76-42c77d93d729",
   "metadata": {},
   "outputs": [],
   "source": [
    "# See how this function creates exactly the format above\n",
    "\n",
    "def messages_for(website):\n",
    "    return [\n",
    "        {\"role\": \"system\", \"content\": system_prompt},\n",
    "        {\"role\": \"user\", \"content\": user_prompt_for(website)}\n",
    "    ]"
   ]
  },
  {
   "cell_type": "code",
   "execution_count": null,
   "id": "813c97aa-d451-47cd-a83a-d5c5333f5b58",
   "metadata": {},
   "outputs": [],
   "source": [
    "# messages_for(ed)"
   ]
  },
  {
   "cell_type": "markdown",
   "id": "8ff517a2-d363-4897-8985-718196a3b396",
   "metadata": {},
   "source": [
    "## Summary"
   ]
  },
  {
   "cell_type": "code",
   "execution_count": 9,
   "id": "798925c2-6ebb-4235-b68b-f16da31ecd31",
   "metadata": {},
   "outputs": [],
   "source": [
    "# And now: call the OpenAI API. You will get very familiar with this!\n",
    "\n",
    "def summarize(url):\n",
    "    website = Website(url)\n",
    "    response = openai.chat.completions.create(\n",
    "        model = \"gpt-4o-mini\",\n",
    "        messages = messages_for(website)\n",
    "    )\n",
    "    return response.choices[0].message.content"
   ]
  },
  {
   "cell_type": "code",
   "execution_count": null,
   "id": "d857aa2d-8fc1-4f3b-a410-f18a6053ffc4",
   "metadata": {},
   "outputs": [],
   "source": [
    "# summarize(\"https://www-users.cse.umn.edu/~kauffman/2021/syllabus.html\")"
   ]
  },
  {
   "cell_type": "markdown",
   "id": "1f8c35fd-8ad1-449b-a85b-c78857b6b5ad",
   "metadata": {},
   "source": [
    "## Display the Summary"
   ]
  },
  {
   "cell_type": "code",
   "execution_count": 10,
   "id": "774d74b6-50d0-433d-b4a0-91b3a30a9c89",
   "metadata": {},
   "outputs": [],
   "source": [
    "def display_summary(url):\n",
    "    summary = summarize(url)\n",
    "    display(Markdown(summary))"
   ]
  },
  {
   "cell_type": "code",
   "execution_count": 11,
   "id": "752864c6-1289-477d-9c1c-47b7db56ea9f",
   "metadata": {},
   "outputs": [
    {
     "data": {
      "text/markdown": [
       "# CSCI 2021: Machine Architecture and Organization\n",
       "\n",
       "## Course Overview\n",
       "CSCI 2021 at the University of Minnesota covers the hardware and software components of computer systems, focusing on data representation, instruction set architecture, memory management, and C programming. The course emphasizes hands-on experience through labs and projects, with a blend of in-person and remote elements.\n",
       "\n",
       "### Course Details:\n",
       "- **Credits**: 4\n",
       "- **Instructor**: Chris Kauffman (kauffman@umn.edu)\n",
       "- **Meeting Times**: \n",
       "  - Lectures: MWF (multiple sections)\n",
       "  - Labs: Wednesdays (varied times and locations)\n",
       "\n",
       "## Coursework and Grading\n",
       "\n",
       "### Graded Components Summary\n",
       "| Component                      | Weight Intended      | Notes                                   |\n",
       "|-------------------------------|----------------------|-----------------------------------------|\n",
       "| Engagement Points              | 10%                  | Earned through participation             |\n",
       "| Homework Quizzes (14 total)   | 10%                  | Two lowest scores dropped                |\n",
       "| Individual Projects (4 total)  | 20%                  | No drops; individual work                |\n",
       "| Midterm Exams (2 total)        | 40%                  | No drops; in-person                      |\n",
       "| Final Exam                     | 20%                  | Comprehensive, in-person                 |\n",
       "\n",
       "### Assignments and Exams\n",
       "| Type                | Description                                       | Notes                                   |\n",
       "|---------------------|--------------------------------------------------|-----------------------------------------|\n",
       "| **Projects**        | Four individual programming projects              | No collaboration; detailed guidelines provided |\n",
       "| **Midterm Exams**   | Two in-person exams during the semester          | Comprehensive coverage of course material |\n",
       "| **Final Exam**      | One comprehensive final exam                      | In-person, covers all course materials    |\n",
       "| **Weekly Quizzes**  | Online quizzes associated with weekly homework    | Unlimited retakes up to deadline; lowest two quizzes are dropped |\n",
       "| **Lab Activities**  | Weekly lab sessions, attendance optional          | Collaboration allowed, credit earned for submitted work |\n",
       "\n",
       "## Academic Integrity Policies\n",
       "Students are required to uphold the **PRIME DIRECTIVE**, which involves explaining their own work clearly. Instances of academic misconduct, such as copying solutions or sharing code, can lead to severe penalties, including failing the course. Collaboration is allowed in labs and homework but with clear limitations.\n",
       "\n",
       "## General Policies\n",
       "- Mandatory masking during class meetings.\n",
       "- Respectful behavior expected in all interactions.\n",
       "- Accommodations for disabilities and religious observances will be provided.\n",
       "\n",
       "For detailed guidelines and updates, students should regularly check the course Canvas site and attend scheduled office hours for assistance."
      ],
      "text/plain": [
       "<IPython.core.display.Markdown object>"
      ]
     },
     "metadata": {},
     "output_type": "display_data"
    }
   ],
   "source": [
    "display_summary(\"https://www-users.cse.umn.edu/~kauffman/2021/syllabus.html\")"
   ]
  }
 ],
 "metadata": {
  "kernelspec": {
   "display_name": "Python 3 (ipykernel)",
   "language": "python",
   "name": "python3"
  },
  "language_info": {
   "codemirror_mode": {
    "name": "ipython",
    "version": 3
   },
   "file_extension": ".py",
   "mimetype": "text/x-python",
   "name": "python",
   "nbconvert_exporter": "python",
   "pygments_lexer": "ipython3",
   "version": "3.11.13"
  }
 },
 "nbformat": 4,
 "nbformat_minor": 5
}
